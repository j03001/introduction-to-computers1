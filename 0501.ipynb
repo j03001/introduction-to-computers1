{
  "nbformat": 4,
  "nbformat_minor": 0,
  "metadata": {
    "colab": {
      "provenance": [],
      "authorship_tag": "ABX9TyP4XPJcY6keUr6PCRAfcF87",
      "include_colab_link": true
    },
    "kernelspec": {
      "name": "python3",
      "display_name": "Python 3"
    },
    "language_info": {
      "name": "python"
    }
  },
  "cells": [
    {
      "cell_type": "markdown",
      "metadata": {
        "id": "view-in-github",
        "colab_type": "text"
      },
      "source": [
        "<a href=\"https://colab.research.google.com/github/j03001/introduction-to-computers1/blob/main/0501.ipynb\" target=\"_parent\"><img src=\"https://colab.research.google.com/assets/colab-badge.svg\" alt=\"Open In Colab\"/></a>"
      ]
    },
    {
      "cell_type": "code",
      "execution_count": 1,
      "metadata": {
        "colab": {
          "base_uri": "https://localhost:8080/"
        },
        "id": "snak998dRFTF",
        "outputId": "ff1d2365-54a5-4b76-a088-f20b18561e8e"
      },
      "outputs": [
        {
          "output_type": "stream",
          "name": "stdout",
          "text": [
            "0501\n"
          ]
        }
      ],
      "source": [
        "print('0501')"
      ]
    },
    {
      "cell_type": "code",
      "source": [
        "print('淡江大學')"
      ],
      "metadata": {
        "colab": {
          "base_uri": "https://localhost:8080/"
        },
        "id": "Zmku6Pq7RIy7",
        "outputId": "1b32b77a-3b46-41e1-cc22-938d4ccd355c"
      },
      "execution_count": 2,
      "outputs": [
        {
          "output_type": "stream",
          "name": "stdout",
          "text": [
            "淡江大學\n"
          ]
        }
      ]
    },
    {
      "cell_type": "code",
      "source": [
        "print(\"請輸入華氏C\")\n",
        "f=float(input())\n",
        "C = (f- 32) * 5/9   \n",
        "\n",
        "\n",
        "print(\"%.1f\" % C,end='') \n",
        "print('度Ｃ')"
      ],
      "metadata": {
        "colab": {
          "base_uri": "https://localhost:8080/"
        },
        "id": "35G_ez1dRMjz",
        "outputId": "472b9a99-f736-4cc2-8b96-be60d68399f5"
      },
      "execution_count": 9,
      "outputs": [
        {
          "output_type": "stream",
          "name": "stdout",
          "text": [
            "請輸入華氏C\n",
            "100\n",
            "37.8度Ｃ\n"
          ]
        }
      ]
    },
    {
      "cell_type": "code",
      "source": [
        "sum([int(i) for i in list(str(12345))])\n"
      ],
      "metadata": {
        "colab": {
          "base_uri": "https://localhost:8080/"
        },
        "id": "PNyLIKZURMuw",
        "outputId": "b10e9268-eea7-444e-ef57-f51d15c44a98"
      },
      "execution_count": 15,
      "outputs": [
        {
          "output_type": "execute_result",
          "data": {
            "text/plain": [
              "15"
            ]
          },
          "metadata": {},
          "execution_count": 15
        }
      ]
    },
    {
      "cell_type": "code",
      "source": [
        "input_number = \"12345\"\n",
        "sum = 0\n",
        "for digit in input_number:\n",
        "  sum += int(digit)\n",
        "print(sum)"
      ],
      "metadata": {
        "colab": {
          "base_uri": "https://localhost:8080/"
        },
        "id": "l0h-sZO-WgO4",
        "outputId": "a90c6649-9d8d-4666-ddb5-4bfd48b2df6a"
      },
      "execution_count": 17,
      "outputs": [
        {
          "output_type": "stream",
          "name": "stdout",
          "text": [
            "15\n"
          ]
        }
      ]
    },
    {
      "cell_type": "code",
      "source": [
        "Principal_sum = 10000 * (1 + 0.02) ** 6\n",
        "print(\"本金和為：\")\n",
        "print(Principal_sum)"
      ],
      "metadata": {
        "colab": {
          "base_uri": "https://localhost:8080/"
        },
        "id": "ocJZ3PPoRM4I",
        "outputId": "3f89e26f-e723-4d20-96e9-28970025a330"
      },
      "execution_count": 14,
      "outputs": [
        {
          "output_type": "stream",
          "name": "stdout",
          "text": [
            "本金和為：\n",
            "11261.62419264\n"
          ]
        }
      ]
    }
  ]
}