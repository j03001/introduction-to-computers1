{
  "nbformat": 4,
  "nbformat_minor": 0,
  "metadata": {
    "colab": {
      "provenance": [],
      "authorship_tag": "ABX9TyMotTV010tubj8lBShO7Xxv",
      "include_colab_link": true
    },
    "kernelspec": {
      "name": "python3",
      "display_name": "Python 3"
    },
    "language_info": {
      "name": "python"
    }
  },
  "cells": [
    {
      "cell_type": "markdown",
      "metadata": {
        "id": "view-in-github",
        "colab_type": "text"
      },
      "source": [
        "<a href=\"https://colab.research.google.com/github/j03001/introduction-to-computers1/blob/main/0515.ipynb\" target=\"_parent\"><img src=\"https://colab.research.google.com/assets/colab-badge.svg\" alt=\"Open In Colab\"/></a>"
      ]
    },
    {
      "cell_type": "code",
      "execution_count": null,
      "metadata": {
        "colab": {
          "base_uri": "https://localhost:8080/"
        },
        "id": "x6diN5A7QwtO",
        "outputId": "16f09bb9-e3fd-4814-ac49-1345463d74ec"
      },
      "outputs": [
        {
          "output_type": "stream",
          "name": "stdout",
          "text": [
            "0515\n"
          ]
        }
      ],
      "source": [
        "print('0515')"
      ]
    },
    {
      "cell_type": "code",
      "source": [
        "rain = str(input('今天會下雨嗎？：'))\n",
        "if rain == \"Y\" or rain== \"y\":\n",
        "  print ('記得帶傘')\n",
        "elif rain ==\"N\" or rain ==\"n\":\n",
        "\n",
        "  print('不用帶傘')\n",
        "else: \n",
        "  print('重新輸入')"
      ],
      "metadata": {
        "colab": {
          "base_uri": "https://localhost:8080/"
        },
        "id": "IDn2XB6eQ63e",
        "outputId": "ef5c97c9-f035-4589-b20f-8a5f9ca567f2"
      },
      "execution_count": null,
      "outputs": [
        {
          "output_type": "stream",
          "name": "stdout",
          "text": [
            "今天會下雨嗎？：j\n",
            "重新輸入\n"
          ]
        }
      ]
    },
    {
      "cell_type": "code",
      "source": [
        "\n",
        "t = float(input(\"請輸入溫度 \"))\n",
        "if t >= 37.5  :\n",
        "    print('體溫過高')\n",
        "elif t>=37 and  t<37.4:\n",
        "    print('體溫略高')\n",
        "elif t >= 34 and t<36.9:\n",
        "    print('體溫正常')\n",
        "\n",
        "else:\n",
        "    print('體溫異常，請重新測量')"
      ],
      "metadata": {
        "colab": {
          "base_uri": "https://localhost:8080/"
        },
        "id": "f9musPK0UBq1",
        "outputId": "c68e2a6a-cd68-4eec-aca1-2bb499ed86db"
      },
      "execution_count": 1,
      "outputs": [
        {
          "output_type": "stream",
          "name": "stdout",
          "text": [
            "請輸入溫度 50\n",
            "體溫過高\n"
          ]
        }
      ]
    },
    {
      "cell_type": "code",
      "source": [
        "score = int(input(\"score: \"))\n",
        "if score >= 90:\n",
        "    print('Grade is: A')\n",
        "elif score >= 80:\n",
        "    print('Grade is: B')\n",
        "elif score >= 70:\n",
        "    print('Grade is: C')\n",
        "elif score >= 60:\n",
        "    print('Grade is: D')\n",
        "else:\n",
        "    print('Grade is: E')"
      ],
      "metadata": {
        "colab": {
          "base_uri": "https://localhost:8080/"
        },
        "id": "sdXiLzssQ66x",
        "outputId": "ab49a047-f845-4647-bc04-6b78695ae99b"
      },
      "execution_count": null,
      "outputs": [
        {
          "output_type": "stream",
          "name": "stdout",
          "text": [
            "score: 60\n",
            "Grade is: D\n"
          ]
        }
      ]
    },
    {
      "cell_type": "code",
      "source": [
        "taxable = int(input(\"請輸入今年收入淨額 \"))\n",
        "if taxable >= 2000000:\n",
        "    tax = taxable * 0.3\n",
        "elif taxable > 1000000 :\n",
        "  tax = taxable * 0.21\n",
        "elif taxable > 600000 :\n",
        "  tax = taxable * 0.13\n",
        "elif taxable > 300000 :\n",
        "  tax = taxable * 0.06\n",
        "else:\n",
        "  tax = taxable *0\n",
        "print('付稅金額:' + str(tax))"
      ],
      "metadata": {
        "id": "O4uBh_xWQ75Q"
      },
      "execution_count": null,
      "outputs": []
    },
    {
      "cell_type": "code",
      "source": [
        "s = int(input(\"請輸入月份: \"))\n",
        "if s == 3 or s==4 or s==5:\n",
        "    print('春天')\n",
        "elif s == 6 or s==7 or s==8:\n",
        "    print('夏天')\n",
        "elif s == 9 or s==10 or s==11:\n",
        "    print('秋天')\n",
        "\n",
        "else:\n",
        "    print('冬天')"
      ],
      "metadata": {
        "id": "Ka7wIoLXQ8MH",
        "colab": {
          "base_uri": "https://localhost:8080/"
        },
        "outputId": "9aa03bab-cc87-475b-a4f0-6a3d201b3562"
      },
      "execution_count": 3,
      "outputs": [
        {
          "output_type": "stream",
          "name": "stdout",
          "text": [
            "請輸入月份: 6\n",
            "夏天\n"
          ]
        }
      ]
    },
    {
      "cell_type": "code",
      "source": [],
      "metadata": {
        "id": "ak5btjd-Q8Pa"
      },
      "execution_count": null,
      "outputs": []
    },
    {
      "cell_type": "code",
      "source": [],
      "metadata": {
        "id": "je-E-mgfQ8Vb"
      },
      "execution_count": null,
      "outputs": []
    },
    {
      "cell_type": "code",
      "source": [],
      "metadata": {
        "id": "_p3CBzuGQ8bq"
      },
      "execution_count": null,
      "outputs": []
    }
  ]
}