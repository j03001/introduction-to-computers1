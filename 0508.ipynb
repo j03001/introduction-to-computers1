{
  "nbformat": 4,
  "nbformat_minor": 0,
  "metadata": {
    "colab": {
      "provenance": [],
      "authorship_tag": "ABX9TyMnds6c8391yogk0lQ2oOtg",
      "include_colab_link": true
    },
    "kernelspec": {
      "name": "python3",
      "display_name": "Python 3"
    },
    "language_info": {
      "name": "python"
    }
  },
  "cells": [
    {
      "cell_type": "markdown",
      "metadata": {
        "id": "view-in-github",
        "colab_type": "text"
      },
      "source": [
        "<a href=\"https://colab.research.google.com/github/j03001/introduction-to-computers1/blob/main/0508.ipynb\" target=\"_parent\"><img src=\"https://colab.research.google.com/assets/colab-badge.svg\" alt=\"Open In Colab\"/></a>"
      ]
    },
    {
      "cell_type": "code",
      "execution_count": 1,
      "metadata": {
        "colab": {
          "base_uri": "https://localhost:8080/"
        },
        "id": "I0i96CY2N1FZ",
        "outputId": "0acc8306-8c6c-4dbc-ac22-df6358f01c54"
      },
      "outputs": [
        {
          "output_type": "stream",
          "name": "stdout",
          "text": [
            "0508\n"
          ]
        }
      ],
      "source": [
        "print('0508')"
      ]
    },
    {
      "cell_type": "code",
      "source": [
        "score = int(input('請輸入分數：'))\n",
        "if score >= 60:\n",
        "  print ('及格')\n",
        "else: \n",
        "  print('不及格')\n"
      ],
      "metadata": {
        "colab": {
          "base_uri": "https://localhost:8080/"
        },
        "id": "RFoo-OwbN1lR",
        "outputId": "2aa82616-3b61-4163-f8df-e89cece04c25"
      },
      "execution_count": 4,
      "outputs": [
        {
          "output_type": "stream",
          "name": "stdout",
          "text": [
            "請輸入分數：40\n",
            "不及格\n"
          ]
        }
      ]
    },
    {
      "cell_type": "code",
      "source": [
        "a = int(input('請輸入密碼：'))\n",
        "if a == 1234:\n",
        "  print ('歡迎光臨!')\n",
        "else: \n",
        "  print(' ')"
      ],
      "metadata": {
        "colab": {
          "base_uri": "https://localhost:8080/"
        },
        "id": "aUB59nGPN1rL",
        "outputId": "f64f5ad3-9efb-4748-bbad-8c66bd1e29c7"
      },
      "execution_count": 12,
      "outputs": [
        {
          "output_type": "stream",
          "name": "stdout",
          "text": [
            "請輸入密碼：1234\n",
            "歡迎光臨!\n"
          ]
        }
      ]
    },
    {
      "cell_type": "code",
      "source": [
        "a = int(input('請輸入密碼：'))\n",
        "if a == 1234:\n",
        "  print ('歡迎光臨!')\n",
        "else: \n",
        "  print(' 密碼錯誤')"
      ],
      "metadata": {
        "colab": {
          "base_uri": "https://localhost:8080/"
        },
        "id": "2iYErhjvN1uk",
        "outputId": "c3d18f0b-909d-4860-9b3a-5cba5fda0e7b"
      },
      "execution_count": 13,
      "outputs": [
        {
          "output_type": "stream",
          "name": "stdout",
          "text": [
            "請輸入密碼：5678\n",
            " 密碼錯誤\n"
          ]
        }
      ]
    },
    {
      "cell_type": "code",
      "source": [
        "rain = str(input('今天會下雨嗎？：'))\n",
        "if rain == \"Y\" or rain== \"y\":\n",
        "  print ('記得帶傘')\n",
        "else: \n",
        "  print(' 不用帶傘')"
      ],
      "metadata": {
        "colab": {
          "base_uri": "https://localhost:8080/"
        },
        "id": "ug22Q9knN1xb",
        "outputId": "6a40e0ec-7cf2-4963-b086-e0f9d576f1ac"
      },
      "execution_count": 18,
      "outputs": [
        {
          "output_type": "stream",
          "name": "stdout",
          "text": [
            "今天會下雨嗎？：y\n",
            "記得帶傘\n"
          ]
        }
      ]
    },
    {
      "cell_type": "code",
      "source": [
        "\n",
        "num = int(input('請輸入一個數字：'))\n",
        "if( num %2) == 0:\n",
        "  print('{0}是偶數' .format(num))\n",
        "else:\n",
        "  print('{0}是奇數' .format(num))"
      ],
      "metadata": {
        "colab": {
          "base_uri": "https://localhost:8080/"
        },
        "id": "hJcWn44AN10T",
        "outputId": "19dfd1e0-233b-4739-a341-698ef330a831"
      },
      "execution_count": 22,
      "outputs": [
        {
          "output_type": "stream",
          "name": "stdout",
          "text": [
            "請輸入一個數字：89\n",
            "89是奇數\n"
          ]
        }
      ]
    },
    {
      "cell_type": "code",
      "source": [],
      "metadata": {
        "id": "xIhPRBnUN15Q"
      },
      "execution_count": null,
      "outputs": []
    },
    {
      "cell_type": "code",
      "source": [],
      "metadata": {
        "id": "oUUTQ991N18X"
      },
      "execution_count": null,
      "outputs": []
    },
    {
      "cell_type": "code",
      "source": [],
      "metadata": {
        "id": "itpyj-c6N1-_"
      },
      "execution_count": null,
      "outputs": []
    },
    {
      "cell_type": "code",
      "source": [],
      "metadata": {
        "id": "i7BOWQTJN2BV"
      },
      "execution_count": null,
      "outputs": []
    }
  ]
}